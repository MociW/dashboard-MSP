{
 "cells": [
  {
   "cell_type": "code",
   "id": "initial_id",
   "metadata": {
    "collapsed": true,
    "ExecuteTime": {
     "end_time": "2025-04-25T07:56:35.725679Z",
     "start_time": "2025-04-25T07:56:35.716632Z"
    }
   },
   "source": [
    "import pandas as pd\n",
    "\n",
    "import warnings\n",
    "\n",
    "warnings.simplefilter(action=\"ignore\", category=FutureWarning)\n",
    "pd.set_option(\"display.max_columns\", None)\n",
    "pd.set_option('display.max_rows', None)"
   ],
   "outputs": [],
   "execution_count": 165
  },
  {
   "metadata": {
    "ExecuteTime": {
     "end_time": "2025-04-25T07:56:35.783219Z",
     "start_time": "2025-04-25T07:56:35.733789Z"
    }
   },
   "cell_type": "code",
   "source": [
    "df=pd.read_excel(\"Book2.xlsx\")\n",
    "# df=pd.read_excel(\"Book3.xlsx\")"
   ],
   "id": "5611b0dc34487b27",
   "outputs": [],
   "execution_count": 166
  },
  {
   "metadata": {
    "ExecuteTime": {
     "end_time": "2025-04-25T07:56:35.807741Z",
     "start_time": "2025-04-25T07:56:35.803347Z"
    }
   },
   "cell_type": "code",
   "source": "df.head()",
   "id": "58601f621c46d5c9",
   "outputs": [
    {
     "data": {
      "text/plain": [
       "      part no             part name  Part Cost Mar 25  New Part Cost May 25\n",
       "0  1110109570    HEAD S/A, CYLINDER           2035440          2.080925e+06\n",
       "1  1110109580    HEAD S/A, CYLINDER           2081505          2.278882e+06\n",
       "2  111010C100  HEAD S/A CYLINDER              2892145          2.881477e+06\n",
       "3  111010C110  HEAD S/A CYLINDER              2350523          2.341853e+06\n",
       "4  111010C120    HEAD S/A, CYLINDER           3900920          4.054359e+06"
      ],
      "text/html": [
       "<div>\n",
       "<style scoped>\n",
       "    .dataframe tbody tr th:only-of-type {\n",
       "        vertical-align: middle;\n",
       "    }\n",
       "\n",
       "    .dataframe tbody tr th {\n",
       "        vertical-align: top;\n",
       "    }\n",
       "\n",
       "    .dataframe thead th {\n",
       "        text-align: right;\n",
       "    }\n",
       "</style>\n",
       "<table border=\"1\" class=\"dataframe\">\n",
       "  <thead>\n",
       "    <tr style=\"text-align: right;\">\n",
       "      <th></th>\n",
       "      <th>part no</th>\n",
       "      <th>part name</th>\n",
       "      <th>Part Cost Mar 25</th>\n",
       "      <th>New Part Cost May 25</th>\n",
       "    </tr>\n",
       "  </thead>\n",
       "  <tbody>\n",
       "    <tr>\n",
       "      <th>0</th>\n",
       "      <td>1110109570</td>\n",
       "      <td>HEAD S/A, CYLINDER</td>\n",
       "      <td>2035440</td>\n",
       "      <td>2.080925e+06</td>\n",
       "    </tr>\n",
       "    <tr>\n",
       "      <th>1</th>\n",
       "      <td>1110109580</td>\n",
       "      <td>HEAD S/A, CYLINDER</td>\n",
       "      <td>2081505</td>\n",
       "      <td>2.278882e+06</td>\n",
       "    </tr>\n",
       "    <tr>\n",
       "      <th>2</th>\n",
       "      <td>111010C100</td>\n",
       "      <td>HEAD S/A CYLINDER</td>\n",
       "      <td>2892145</td>\n",
       "      <td>2.881477e+06</td>\n",
       "    </tr>\n",
       "    <tr>\n",
       "      <th>3</th>\n",
       "      <td>111010C110</td>\n",
       "      <td>HEAD S/A CYLINDER</td>\n",
       "      <td>2350523</td>\n",
       "      <td>2.341853e+06</td>\n",
       "    </tr>\n",
       "    <tr>\n",
       "      <th>4</th>\n",
       "      <td>111010C120</td>\n",
       "      <td>HEAD S/A, CYLINDER</td>\n",
       "      <td>3900920</td>\n",
       "      <td>4.054359e+06</td>\n",
       "    </tr>\n",
       "  </tbody>\n",
       "</table>\n",
       "</div>"
      ]
     },
     "execution_count": 167,
     "metadata": {},
     "output_type": "execute_result"
    }
   ],
   "execution_count": 167
  },
  {
   "metadata": {
    "ExecuteTime": {
     "end_time": "2025-04-25T07:56:35.838431Z",
     "start_time": "2025-04-25T07:56:35.828344Z"
    }
   },
   "cell_type": "code",
   "source": "df.info()",
   "id": "e190bd40c13cb535",
   "outputs": [
    {
     "name": "stdout",
     "output_type": "stream",
     "text": [
      "<class 'pandas.core.frame.DataFrame'>\n",
      "RangeIndex: 787 entries, 0 to 786\n",
      "Data columns (total 4 columns):\n",
      " #   Column                Non-Null Count  Dtype  \n",
      "---  ------                --------------  -----  \n",
      " 0   part no               787 non-null    object \n",
      " 1   part name             787 non-null    object \n",
      " 2   Part Cost Mar 25      787 non-null    int64  \n",
      " 3   New Part Cost May 25  787 non-null    float64\n",
      "dtypes: float64(1), int64(1), object(2)\n",
      "memory usage: 24.7+ KB\n"
     ]
    }
   ],
   "execution_count": 168
  },
  {
   "metadata": {
    "ExecuteTime": {
     "end_time": "2025-04-25T07:56:35.858691Z",
     "start_time": "2025-04-25T07:56:35.856695Z"
    }
   },
   "cell_type": "code",
   "source": "df[\"New Part Cost May 25\"] = round(df[\"New Part Cost May 25\"],0)",
   "id": "3256cd43e153dce9",
   "outputs": [],
   "execution_count": 169
  },
  {
   "metadata": {
    "ExecuteTime": {
     "end_time": "2025-04-25T07:56:35.887212Z",
     "start_time": "2025-04-25T07:56:35.883893Z"
    }
   },
   "cell_type": "code",
   "source": "df.head()",
   "id": "c6cb0291d41741fa",
   "outputs": [
    {
     "data": {
      "text/plain": [
       "      part no             part name  Part Cost Mar 25  New Part Cost May 25\n",
       "0  1110109570    HEAD S/A, CYLINDER           2035440             2080925.0\n",
       "1  1110109580    HEAD S/A, CYLINDER           2081505             2278882.0\n",
       "2  111010C100  HEAD S/A CYLINDER              2892145             2881477.0\n",
       "3  111010C110  HEAD S/A CYLINDER              2350523             2341853.0\n",
       "4  111010C120    HEAD S/A, CYLINDER           3900920             4054359.0"
      ],
      "text/html": [
       "<div>\n",
       "<style scoped>\n",
       "    .dataframe tbody tr th:only-of-type {\n",
       "        vertical-align: middle;\n",
       "    }\n",
       "\n",
       "    .dataframe tbody tr th {\n",
       "        vertical-align: top;\n",
       "    }\n",
       "\n",
       "    .dataframe thead th {\n",
       "        text-align: right;\n",
       "    }\n",
       "</style>\n",
       "<table border=\"1\" class=\"dataframe\">\n",
       "  <thead>\n",
       "    <tr style=\"text-align: right;\">\n",
       "      <th></th>\n",
       "      <th>part no</th>\n",
       "      <th>part name</th>\n",
       "      <th>Part Cost Mar 25</th>\n",
       "      <th>New Part Cost May 25</th>\n",
       "    </tr>\n",
       "  </thead>\n",
       "  <tbody>\n",
       "    <tr>\n",
       "      <th>0</th>\n",
       "      <td>1110109570</td>\n",
       "      <td>HEAD S/A, CYLINDER</td>\n",
       "      <td>2035440</td>\n",
       "      <td>2080925.0</td>\n",
       "    </tr>\n",
       "    <tr>\n",
       "      <th>1</th>\n",
       "      <td>1110109580</td>\n",
       "      <td>HEAD S/A, CYLINDER</td>\n",
       "      <td>2081505</td>\n",
       "      <td>2278882.0</td>\n",
       "    </tr>\n",
       "    <tr>\n",
       "      <th>2</th>\n",
       "      <td>111010C100</td>\n",
       "      <td>HEAD S/A CYLINDER</td>\n",
       "      <td>2892145</td>\n",
       "      <td>2881477.0</td>\n",
       "    </tr>\n",
       "    <tr>\n",
       "      <th>3</th>\n",
       "      <td>111010C110</td>\n",
       "      <td>HEAD S/A CYLINDER</td>\n",
       "      <td>2350523</td>\n",
       "      <td>2341853.0</td>\n",
       "    </tr>\n",
       "    <tr>\n",
       "      <th>4</th>\n",
       "      <td>111010C120</td>\n",
       "      <td>HEAD S/A, CYLINDER</td>\n",
       "      <td>3900920</td>\n",
       "      <td>4054359.0</td>\n",
       "    </tr>\n",
       "  </tbody>\n",
       "</table>\n",
       "</div>"
      ]
     },
     "execution_count": 170,
     "metadata": {},
     "output_type": "execute_result"
    }
   ],
   "execution_count": 170
  },
  {
   "metadata": {
    "ExecuteTime": {
     "end_time": "2025-04-25T07:56:35.926805Z",
     "start_time": "2025-04-25T07:56:35.924609Z"
    }
   },
   "cell_type": "code",
   "source": "df[\"New Part Cost May 25\"]=df[\"New Part Cost May 25\"].astype(int)",
   "id": "33df913018143164",
   "outputs": [],
   "execution_count": 171
  },
  {
   "metadata": {
    "ExecuteTime": {
     "end_time": "2025-04-25T07:56:35.952355Z",
     "start_time": "2025-04-25T07:56:35.947964Z"
    }
   },
   "cell_type": "code",
   "source": "df.info()",
   "id": "647c5060671ec0cf",
   "outputs": [
    {
     "name": "stdout",
     "output_type": "stream",
     "text": [
      "<class 'pandas.core.frame.DataFrame'>\n",
      "RangeIndex: 787 entries, 0 to 786\n",
      "Data columns (total 4 columns):\n",
      " #   Column                Non-Null Count  Dtype \n",
      "---  ------                --------------  ----- \n",
      " 0   part no               787 non-null    object\n",
      " 1   part name             787 non-null    object\n",
      " 2   Part Cost Mar 25      787 non-null    int64 \n",
      " 3   New Part Cost May 25  787 non-null    int64 \n",
      "dtypes: int64(2), object(2)\n",
      "memory usage: 24.7+ KB\n"
     ]
    }
   ],
   "execution_count": 172
  },
  {
   "metadata": {
    "ExecuteTime": {
     "end_time": "2025-04-25T07:56:35.963555Z",
     "start_time": "2025-04-25T07:56:35.960903Z"
    }
   },
   "cell_type": "code",
   "source": "df[\"Gap\"]=(df[\"New Part Cost May 25\"]-df[\"Part Cost Mar 25\"])/df[\"Part Cost Mar 25\"]*100",
   "id": "75a2615e72860a5c",
   "outputs": [],
   "execution_count": 173
  },
  {
   "metadata": {
    "ExecuteTime": {
     "end_time": "2025-04-25T07:56:35.987553Z",
     "start_time": "2025-04-25T07:56:35.983354Z"
    }
   },
   "cell_type": "code",
   "source": "df.info()",
   "id": "d6dc2d3a197cae67",
   "outputs": [
    {
     "name": "stdout",
     "output_type": "stream",
     "text": [
      "<class 'pandas.core.frame.DataFrame'>\n",
      "RangeIndex: 787 entries, 0 to 786\n",
      "Data columns (total 5 columns):\n",
      " #   Column                Non-Null Count  Dtype  \n",
      "---  ------                --------------  -----  \n",
      " 0   part no               787 non-null    object \n",
      " 1   part name             787 non-null    object \n",
      " 2   Part Cost Mar 25      787 non-null    int64  \n",
      " 3   New Part Cost May 25  787 non-null    int64  \n",
      " 4   Gap                   787 non-null    float64\n",
      "dtypes: float64(1), int64(2), object(2)\n",
      "memory usage: 30.9+ KB\n"
     ]
    }
   ],
   "execution_count": 174
  },
  {
   "metadata": {
    "ExecuteTime": {
     "end_time": "2025-04-25T07:56:36.006085Z",
     "start_time": "2025-04-25T07:56:36.000881Z"
    }
   },
   "cell_type": "code",
   "source": "df.head()",
   "id": "6316107a00edb39b",
   "outputs": [
    {
     "data": {
      "text/plain": [
       "      part no             part name  Part Cost Mar 25  New Part Cost May 25  \\\n",
       "0  1110109570    HEAD S/A, CYLINDER           2035440               2080925   \n",
       "1  1110109580    HEAD S/A, CYLINDER           2081505               2278882   \n",
       "2  111010C100  HEAD S/A CYLINDER              2892145               2881477   \n",
       "3  111010C110  HEAD S/A CYLINDER              2350523               2341853   \n",
       "4  111010C120    HEAD S/A, CYLINDER           3900920               4054359   \n",
       "\n",
       "        Gap  \n",
       "0  2.234652  \n",
       "1  9.482418  \n",
       "2 -0.368861  \n",
       "3 -0.368854  \n",
       "4  3.933405  "
      ],
      "text/html": [
       "<div>\n",
       "<style scoped>\n",
       "    .dataframe tbody tr th:only-of-type {\n",
       "        vertical-align: middle;\n",
       "    }\n",
       "\n",
       "    .dataframe tbody tr th {\n",
       "        vertical-align: top;\n",
       "    }\n",
       "\n",
       "    .dataframe thead th {\n",
       "        text-align: right;\n",
       "    }\n",
       "</style>\n",
       "<table border=\"1\" class=\"dataframe\">\n",
       "  <thead>\n",
       "    <tr style=\"text-align: right;\">\n",
       "      <th></th>\n",
       "      <th>part no</th>\n",
       "      <th>part name</th>\n",
       "      <th>Part Cost Mar 25</th>\n",
       "      <th>New Part Cost May 25</th>\n",
       "      <th>Gap</th>\n",
       "    </tr>\n",
       "  </thead>\n",
       "  <tbody>\n",
       "    <tr>\n",
       "      <th>0</th>\n",
       "      <td>1110109570</td>\n",
       "      <td>HEAD S/A, CYLINDER</td>\n",
       "      <td>2035440</td>\n",
       "      <td>2080925</td>\n",
       "      <td>2.234652</td>\n",
       "    </tr>\n",
       "    <tr>\n",
       "      <th>1</th>\n",
       "      <td>1110109580</td>\n",
       "      <td>HEAD S/A, CYLINDER</td>\n",
       "      <td>2081505</td>\n",
       "      <td>2278882</td>\n",
       "      <td>9.482418</td>\n",
       "    </tr>\n",
       "    <tr>\n",
       "      <th>2</th>\n",
       "      <td>111010C100</td>\n",
       "      <td>HEAD S/A CYLINDER</td>\n",
       "      <td>2892145</td>\n",
       "      <td>2881477</td>\n",
       "      <td>-0.368861</td>\n",
       "    </tr>\n",
       "    <tr>\n",
       "      <th>3</th>\n",
       "      <td>111010C110</td>\n",
       "      <td>HEAD S/A CYLINDER</td>\n",
       "      <td>2350523</td>\n",
       "      <td>2341853</td>\n",
       "      <td>-0.368854</td>\n",
       "    </tr>\n",
       "    <tr>\n",
       "      <th>4</th>\n",
       "      <td>111010C120</td>\n",
       "      <td>HEAD S/A, CYLINDER</td>\n",
       "      <td>3900920</td>\n",
       "      <td>4054359</td>\n",
       "      <td>3.933405</td>\n",
       "    </tr>\n",
       "  </tbody>\n",
       "</table>\n",
       "</div>"
      ]
     },
     "execution_count": 175,
     "metadata": {},
     "output_type": "execute_result"
    }
   ],
   "execution_count": 175
  },
  {
   "metadata": {
    "ExecuteTime": {
     "end_time": "2025-04-25T07:56:36.037797Z",
     "start_time": "2025-04-25T07:56:36.035124Z"
    }
   },
   "cell_type": "code",
   "source": [
    "bounderies=5.11\n",
    "\n",
    "data=df[df[\"Gap\"]<-bounderies]\n",
    "\n"
   ],
   "id": "6d58d48c6ad4e968",
   "outputs": [],
   "execution_count": 176
  },
  {
   "metadata": {
    "ExecuteTime": {
     "end_time": "2025-04-25T07:56:36.072163Z",
     "start_time": "2025-04-25T07:56:36.068846Z"
    }
   },
   "cell_type": "code",
   "source": "data.head(100)",
   "id": "4db7f42047b4bd9d",
   "outputs": [
    {
     "data": {
      "text/plain": [
       "Empty DataFrame\n",
       "Columns: [part no, part name, Part Cost Mar 25, New Part Cost May 25, Gap]\n",
       "Index: []"
      ],
      "text/html": [
       "<div>\n",
       "<style scoped>\n",
       "    .dataframe tbody tr th:only-of-type {\n",
       "        vertical-align: middle;\n",
       "    }\n",
       "\n",
       "    .dataframe tbody tr th {\n",
       "        vertical-align: top;\n",
       "    }\n",
       "\n",
       "    .dataframe thead th {\n",
       "        text-align: right;\n",
       "    }\n",
       "</style>\n",
       "<table border=\"1\" class=\"dataframe\">\n",
       "  <thead>\n",
       "    <tr style=\"text-align: right;\">\n",
       "      <th></th>\n",
       "      <th>part no</th>\n",
       "      <th>part name</th>\n",
       "      <th>Part Cost Mar 25</th>\n",
       "      <th>New Part Cost May 25</th>\n",
       "      <th>Gap</th>\n",
       "    </tr>\n",
       "  </thead>\n",
       "  <tbody>\n",
       "  </tbody>\n",
       "</table>\n",
       "</div>"
      ]
     },
     "execution_count": 177,
     "metadata": {},
     "output_type": "execute_result"
    }
   ],
   "execution_count": 177
  },
  {
   "metadata": {
    "ExecuteTime": {
     "end_time": "2025-04-25T07:56:36.127283Z",
     "start_time": "2025-04-25T07:56:36.112330Z"
    }
   },
   "cell_type": "code",
   "source": [
    "status=[]\n",
    "for index, row in df.iterrows():\n",
    "    if row[\"Gap\"]>bounderies:\n",
    "        status.append(f\"Abnormal Above {bounderies}%\")\n",
    "    elif row[\"Gap\"]<-bounderies:\n",
    "        status.append(f\"Abnormal Below -{bounderies}%\")\n",
    "    else:\n",
    "        status.append(\"Normal\")"
   ],
   "id": "fe62bbff16826f7e",
   "outputs": [],
   "execution_count": 178
  },
  {
   "metadata": {
    "ExecuteTime": {
     "end_time": "2025-04-25T07:56:36.144551Z",
     "start_time": "2025-04-25T07:56:36.142312Z"
    }
   },
   "cell_type": "code",
   "source": "df[\"Status\"]=status",
   "id": "46a34cf4f7fa22fc",
   "outputs": [],
   "execution_count": 179
  },
  {
   "metadata": {
    "ExecuteTime": {
     "end_time": "2025-04-25T07:56:36.153060Z",
     "start_time": "2025-04-25T07:56:36.149031Z"
    }
   },
   "cell_type": "code",
   "source": "df.head()",
   "id": "97113910d4117003",
   "outputs": [
    {
     "data": {
      "text/plain": [
       "      part no             part name  Part Cost Mar 25  New Part Cost May 25  \\\n",
       "0  1110109570    HEAD S/A, CYLINDER           2035440               2080925   \n",
       "1  1110109580    HEAD S/A, CYLINDER           2081505               2278882   \n",
       "2  111010C100  HEAD S/A CYLINDER              2892145               2881477   \n",
       "3  111010C110  HEAD S/A CYLINDER              2350523               2341853   \n",
       "4  111010C120    HEAD S/A, CYLINDER           3900920               4054359   \n",
       "\n",
       "        Gap                Status  \n",
       "0  2.234652                Normal  \n",
       "1  9.482418  Abnormal Above 5.11%  \n",
       "2 -0.368861                Normal  \n",
       "3 -0.368854                Normal  \n",
       "4  3.933405                Normal  "
      ],
      "text/html": [
       "<div>\n",
       "<style scoped>\n",
       "    .dataframe tbody tr th:only-of-type {\n",
       "        vertical-align: middle;\n",
       "    }\n",
       "\n",
       "    .dataframe tbody tr th {\n",
       "        vertical-align: top;\n",
       "    }\n",
       "\n",
       "    .dataframe thead th {\n",
       "        text-align: right;\n",
       "    }\n",
       "</style>\n",
       "<table border=\"1\" class=\"dataframe\">\n",
       "  <thead>\n",
       "    <tr style=\"text-align: right;\">\n",
       "      <th></th>\n",
       "      <th>part no</th>\n",
       "      <th>part name</th>\n",
       "      <th>Part Cost Mar 25</th>\n",
       "      <th>New Part Cost May 25</th>\n",
       "      <th>Gap</th>\n",
       "      <th>Status</th>\n",
       "    </tr>\n",
       "  </thead>\n",
       "  <tbody>\n",
       "    <tr>\n",
       "      <th>0</th>\n",
       "      <td>1110109570</td>\n",
       "      <td>HEAD S/A, CYLINDER</td>\n",
       "      <td>2035440</td>\n",
       "      <td>2080925</td>\n",
       "      <td>2.234652</td>\n",
       "      <td>Normal</td>\n",
       "    </tr>\n",
       "    <tr>\n",
       "      <th>1</th>\n",
       "      <td>1110109580</td>\n",
       "      <td>HEAD S/A, CYLINDER</td>\n",
       "      <td>2081505</td>\n",
       "      <td>2278882</td>\n",
       "      <td>9.482418</td>\n",
       "      <td>Abnormal Above 5.11%</td>\n",
       "    </tr>\n",
       "    <tr>\n",
       "      <th>2</th>\n",
       "      <td>111010C100</td>\n",
       "      <td>HEAD S/A CYLINDER</td>\n",
       "      <td>2892145</td>\n",
       "      <td>2881477</td>\n",
       "      <td>-0.368861</td>\n",
       "      <td>Normal</td>\n",
       "    </tr>\n",
       "    <tr>\n",
       "      <th>3</th>\n",
       "      <td>111010C110</td>\n",
       "      <td>HEAD S/A CYLINDER</td>\n",
       "      <td>2350523</td>\n",
       "      <td>2341853</td>\n",
       "      <td>-0.368854</td>\n",
       "      <td>Normal</td>\n",
       "    </tr>\n",
       "    <tr>\n",
       "      <th>4</th>\n",
       "      <td>111010C120</td>\n",
       "      <td>HEAD S/A, CYLINDER</td>\n",
       "      <td>3900920</td>\n",
       "      <td>4054359</td>\n",
       "      <td>3.933405</td>\n",
       "      <td>Normal</td>\n",
       "    </tr>\n",
       "  </tbody>\n",
       "</table>\n",
       "</div>"
      ]
     },
     "execution_count": 180,
     "metadata": {},
     "output_type": "execute_result"
    }
   ],
   "execution_count": 180
  },
  {
   "metadata": {
    "ExecuteTime": {
     "end_time": "2025-04-25T07:56:36.450013Z",
     "start_time": "2025-04-25T07:56:36.182780Z"
    }
   },
   "cell_type": "code",
   "source": [
    "import utils.pdf.chart as uc\n",
    "\n",
    "image_bytes=uc.single_pie_chart(df,boundaries=5.11,column_status=\"Status\", title=\"In House Service Part\",height=500,width=500,legend_param=True)\n",
    "\n",
    "with open('pie_chart.png', 'wb') as f:\n",
    "    f.write(image_bytes.getvalue())\n"
   ],
   "id": "5c7d708e84809f03",
   "outputs": [],
   "execution_count": 181
  },
  {
   "metadata": {
    "ExecuteTime": {
     "end_time": "2025-04-25T07:56:36.517096Z",
     "start_time": "2025-04-25T07:56:36.466117Z"
    }
   },
   "cell_type": "code",
   "source": "df.to_excel(\"in_house_service_part.xlsx\",index=False)",
   "id": "a6ce4fee68ef7d36",
   "outputs": [],
   "execution_count": 182
  },
  {
   "metadata": {
    "ExecuteTime": {
     "end_time": "2025-04-25T07:56:36.522017Z",
     "start_time": "2025-04-25T07:56:36.519684Z"
    }
   },
   "cell_type": "code",
   "source": [
    "num= len(df[df[\"Status\"] == f\"Abnormal Above {bounderies}%\"])\n",
    "t=len(df[df[\"Status\"] == f\"Abnormal Below -{bounderies}%\"])"
   ],
   "id": "ca91a7a3d4173789",
   "outputs": [],
   "execution_count": 183
  },
  {
   "metadata": {
    "ExecuteTime": {
     "end_time": "2025-04-25T07:56:36.529588Z",
     "start_time": "2025-04-25T07:56:36.527602Z"
    }
   },
   "cell_type": "code",
   "source": "print(num)",
   "id": "14ab8b8e3da042b6",
   "outputs": [
    {
     "name": "stdout",
     "output_type": "stream",
     "text": [
      "111\n"
     ]
    }
   ],
   "execution_count": 184
  },
  {
   "metadata": {
    "ExecuteTime": {
     "end_time": "2025-04-25T07:56:36.535780Z",
     "start_time": "2025-04-25T07:56:36.534640Z"
    }
   },
   "cell_type": "code",
   "source": "",
   "id": "6838c2f605d74e5a",
   "outputs": [],
   "execution_count": null
  }
 ],
 "metadata": {
  "kernelspec": {
   "display_name": "Python 3",
   "language": "python",
   "name": "python3"
  },
  "language_info": {
   "codemirror_mode": {
    "name": "ipython",
    "version": 2
   },
   "file_extension": ".py",
   "mimetype": "text/x-python",
   "name": "python",
   "nbconvert_exporter": "python",
   "pygments_lexer": "ipython2",
   "version": "2.7.6"
  }
 },
 "nbformat": 4,
 "nbformat_minor": 5
}
